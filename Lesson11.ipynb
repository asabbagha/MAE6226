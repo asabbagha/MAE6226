{
 "cells": [
  {
   "cell_type": "markdown",
   "metadata": {},
   "source": [
    "## Vortex-source panel method"
   ]
  },
  {
   "cell_type": "code",
   "execution_count": 15,
   "metadata": {
    "collapsed": true
   },
   "outputs": [],
   "source": [
    "import os\n",
    "import numpy as np\n",
    "from scipy import integrate, linalg\n",
    "from matplotlib import pyplot as py\n",
    "%matplotlib inline"
   ]
  },
  {
   "cell_type": "code",
   "execution_count": 16,
   "metadata": {},
   "outputs": [
    {
     "data": {
      "image/png": "[encoded data removed]",
      "text/plain": [
       "<matplotlib.figure.Figure at 0x7f2173e8a6a0>"
      ]
     },
     "metadata": {},
     "output_type": "display_data"
    }
   ],
   "source": [
    "naca_filepath = os.path.join('naca0012.dat')\n",
    "with open (naca_filepath, 'r') as file_name:\n",
    "    x, y = np.loadtxt(file_name, dtype=float, delimiter='\\t', unpack=True)\n",
    "    \n",
    "#plot geometry \n",
    "width = 10\n",
    "py.figure(figsize=(width, width))\n",
    "py.grid()\n",
    "py.xlabel('x', fontsize=16)\n",
    "py.ylabel('y', fontsize=16)\n",
    "py.plot(x, y, color='k', linestyle='-', linewidth=2)\n",
    "py.axis('scaled', adjustable='box')\n",
    "py.xlim(-0.1, 1.1)\n",
    "py.ylim(-0.1, 0.1);"
   ]
  },
  {
   "cell_type": "code",
   "execution_count": 17,
   "metadata": {
    "collapsed": true
   },
   "outputs": [],
   "source": [
    "class Panel:\n",
    "   \n",
    "    def __init__(self, xa, ya, xb, yb):\n",
    "        \n",
    "        self.xa, self.ya = xa, ya  # panel starting-point\n",
    "        self.xb, self.yb = xb, yb  # panel ending-point\n",
    "        \n",
    "        self.xc, self.yc = (xa + xb) / 2, (ya + yb) / 2  # panel center\n",
    "        self.length = np.sqrt((xb - xa)**2 + (yb - ya)**2)  # panel length\n",
    "        \n",
    "        # orientation of panel (angle between x-axis and panel's normal)\n",
    "        if xb - xa <= 0.0:\n",
    "            self.beta = np.arccos((yb - ya) / self.length)\n",
    "        elif xb - xa > 0.0:\n",
    "            self.beta = np.pi + np.arccos(-(yb - ya) / self.length)\n",
    "        \n",
    "        # panel location\n",
    "        if self.beta <= np.pi:\n",
    "            self.loc = 'upper'  # upper surface\n",
    "        else:\n",
    "            self.loc = 'lower'  # lower surface\n",
    "        \n",
    "        self.sigma = 0.0  # source strength\n",
    "        self.vt = 0.0  # tangential velocity\n",
    "        self.cp = 0.0  # pressure coefficient"
   ]
  },
  {
   "cell_type": "code",
   "execution_count": 18,
   "metadata": {
    "collapsed": true
   },
   "outputs": [],
   "source": [
    "def define_panels(x, y, N=40):\n",
    "    \n",
    "    R = (x.max() - x.min()) / 2.0  # circle radius\n",
    "    x_center = (x.max() + x.min()) / 2.0  # x-coordinate of circle center\n",
    "    \n",
    "    theta = np.linspace(0.0, 2.0 * np.pi, N + 1)  # array of angles\n",
    "    x_circle = x_center + R * np.cos(theta)  # x-coordinates of circle\n",
    "    \n",
    "    x_ends = np.copy(x_circle)  # x-coordinate of panels end-points\n",
    "    y_ends = np.empty_like(x_ends)  # y-coordinate of panels end-points\n",
    "    \n",
    "    # extend coordinates to consider closed surface\n",
    "    x, y = np.append(x, x[0]), np.append(y, y[0])\n",
    "    \n",
    "    # compute y-coordinate of end-points by projection\n",
    "    I = 0\n",
    "    for i in range(N):\n",
    "        while I < len(x) - 1:\n",
    "            if (x[I] <= x_ends[i] <= x[I + 1]) or (x[I + 1] <= x_ends[i] <= x[I]):\n",
    "                break\n",
    "            else:\n",
    "                I += 1\n",
    "        a = (y[I + 1] - y[I]) / (x[I + 1] - x[I])\n",
    "        b = y[I + 1] - a * x[I + 1]\n",
    "        y_ends[i] = a * x_ends[i] + b\n",
    "    y_ends[N] = y_ends[0]\n",
    "    \n",
    "    # create panels\n",
    "    panels = np.empty(N, dtype=object)\n",
    "    for i in range(N):\n",
    "        panels[i] = Panel(x_ends[i], y_ends[i], x_ends[i + 1], y_ends[i + 1])\n",
    "    \n",
    "    return panels"
   ]
  },
  {
   "cell_type": "code",
   "execution_count": 19,
   "metadata": {
    "collapsed": true
   },
   "outputs": [],
   "source": [
    "# discretize geoemetry into panels\n",
    "panels = define_panels(x, y, N=40)"
   ]
  },
  {
   "cell_type": "code",
   "execution_count": 20,
   "metadata": {},
   "outputs": [
    {
     "data": {
      "image/png": "[encoded data removed]",
      "text/plain": [
       "<matplotlib.figure.Figure at 0x7f2173fc1668>"
      ]
     },
     "metadata": {},
     "output_type": "display_data"
    }
   ],
   "source": [
    "width = 10\n",
    "py.figure(figsize=(width, width))\n",
    "py.grid()\n",
    "py.xlabel('x', fontsize=16)\n",
    "py.ylabel('y', fontsize=16)\n",
    "py.plot(x, y, color='k', linestyle='-', linewidth=2)\n",
    "py.plot(np.append([panel.xa for panel in panels], panels[0].xa),\n",
    "            np.append([panel.ya for panel in panels], panels[0].ya),\n",
    "            linestyle='-', linewidth=1, marker='o', markersize=6, color='#CD2305')\n",
    "py.axis('scaled', adjustable='box')\n",
    "py.xlim(-0.1, 1.1)\n",
    "py.ylim(-0.1, 0.1);"
   ]
  },
  {
   "cell_type": "code",
   "execution_count": 21,
   "metadata": {
    "collapsed": true
   },
   "outputs": [],
   "source": [
    "class Freestream:\n",
    "    \n",
    "    def __init__(self, u_inf=1.0, alpha=0.0):\n",
    "        \n",
    "        self.u_inf = u_inf\n",
    "        self.alpha = np.radians(alpha)"
   ]
  },
  {
   "cell_type": "code",
   "execution_count": 22,
   "metadata": {
    "collapsed": true
   },
   "outputs": [],
   "source": [
    "# define freestream conditions\n",
    "freestream = Freestream(u_inf=1.0, alpha=4.0)"
   ]
  },
  {
   "cell_type": "code",
   "execution_count": 23,
   "metadata": {
    "collapsed": true
   },
   "outputs": [],
   "source": [
    "def integral(x, y, panel, dxdk, dydk):\n",
    "    \n",
    "    def integrand(s):\n",
    "        return (((x - (panel.xa - np.sin(panel.beta) * s)) * dxdk +\n",
    "                 (y - (panel.ya + np.cos(panel.beta) * s)) * dydk) /\n",
    "                ((x - (panel.xa - np.sin(panel.beta) * s))**2 +\n",
    "                 (y - (panel.ya + np.cos(panel.beta) * s))**2) )\n",
    "    return integrate.quad(integrand, 0.0, panel.length)[0]"
   ]
  },
  {
   "cell_type": "code",
   "execution_count": 24,
   "metadata": {
    "collapsed": true
   },
   "outputs": [],
   "source": [
    "#source contribution\n",
    "def source_contribution_normal(panels):\n",
    "    \n",
    "    A = np.empty((panels.size, panels.size), dtype=float)\n",
    "    # source contribution on a panel from itself\n",
    "    \n",
    "    np.fill_diagonal(A, 0.5)\n",
    "    # source contribution on a panel from others\n",
    "    \n",
    "    for i, panel_i in enumerate(panels):\n",
    "        for j, panel_j in enumerate(panels):\n",
    "            if i != j:\n",
    "                A[i, j] = 0.5 / np.pi * integral(panel_i.xc, panel_i.yc, \n",
    "                                                    panel_j,\n",
    "                                                    np.cos(panel_i.beta),\n",
    "                                                    np.sin(panel_i.beta))\n",
    "    return A"
   ]
  },
  {
   "cell_type": "code",
   "execution_count": 25,
   "metadata": {
    "collapsed": true
   },
   "outputs": [],
   "source": [
    "def vortex_contribution_normal(panels):\n",
    "    \n",
    "    A = np.empty((panels.size, panels.size), dtype=float)\n",
    "    # vortex contribution on a panel from itself\n",
    "    np.fill_diagonal(A, 0.0)\n",
    "    # vortex contribution on a panel from others\n",
    "    for i, panel_i in enumerate(panels):\n",
    "        for j, panel_j in enumerate(panels):\n",
    "            if i != j:\n",
    "                A[i, j] = -0.5 / np.pi * integral(panel_i.xc, panel_i.yc, \n",
    "                                                     panel_j,\n",
    "                                                     np.sin(panel_i.beta),\n",
    "                                                     -np.cos(panel_i.beta))\n",
    "    return A"
   ]
  },
  {
   "cell_type": "code",
   "execution_count": 26,
   "metadata": {
    "collapsed": true
   },
   "outputs": [],
   "source": [
    "A_source = source_contribution_normal(panels)\n",
    "B_vortex = vortex_contribution_normal(panels)"
   ]
  },
  {
   "cell_type": "code",
   "execution_count": 27,
   "metadata": {
    "collapsed": true
   },
   "outputs": [],
   "source": [
    "def kutta_condition(A_source, B_vortex):\n",
    "   \n",
    "    b = np.empty(A_source.shape[0] + 1, dtype=float)\n",
    "    \n",
    "    b[:-1] = B_vortex[0, :] + B_vortex[-1, :]\n",
    "\n",
    "    b[-1] = - np.sum(A_source[0, :] + A_source[-1, :])\n",
    "    return b"
   ]
  },
  {
   "cell_type": "code",
   "execution_count": 28,
   "metadata": {
    "collapsed": true
   },
   "outputs": [],
   "source": [
    "def build_singularity_matrix(A_source, B_vortex):\n",
    "    \n",
    "    A = np.empty((A_source.shape[0] + 1, A_source.shape[1] + 1), dtype=float)\n",
    "\n",
    "    A[:-1, :-1] = A_source\n",
    "\n",
    "    A[:-1, -1] = np.sum(B_vortex, axis=1)\n",
    "\n",
    "    A[-1, :] = kutta_condition(A_source, B_vortex)\n",
    "    return A"
   ]
  },
  {
   "cell_type": "code",
   "execution_count": 29,
   "metadata": {
    "collapsed": true
   },
   "outputs": [],
   "source": [
    "def build_freestream_rhs(panels, freestream):\n",
    "\n",
    "    b = np.empty(panels.size + 1, dtype=float)\n",
    "\n",
    "    for i, panel in enumerate(panels):\n",
    "        b[i] = -freestream.u_inf * np.cos(freestream.alpha - panel.beta)\n",
    "\n",
    "        b[-1] = -freestream.u_inf * (np.sin(freestream.alpha - panels[0].beta) +\n",
    "                                 np.sin(freestream.alpha - panels[-1].beta) )\n",
    "    return b"
   ]
  },
  {
   "cell_type": "code",
   "execution_count": 30,
   "metadata": {
    "collapsed": true
   },
   "outputs": [],
   "source": [
    "A = build_singularity_matrix(A_source, B_vortex)\n",
    "b = build_freestream_rhs(panels, freestream)"
   ]
  },
  {
   "cell_type": "code",
   "execution_count": 31,
   "metadata": {
    "collapsed": true
   },
   "outputs": [],
   "source": [
    "# solve for singularity strengths\n",
    "strengths = np.linalg.solve(A, b)\n",
    "\n",
    "# store source strength on each panel\n",
    "for i , panel in enumerate(panels):\n",
    "    panel.sigma = strengths[i]\n",
    "    \n",
    "# store circulation density\n",
    "gamma = strengths[-1]"
   ]
  },
  {
   "cell_type": "markdown",
   "metadata": {},
   "source": [
    "## Finding Surface Pressure coef"
   ]
  },
  {
   "cell_type": "code",
   "execution_count": 32,
   "metadata": {
    "collapsed": true
   },
   "outputs": [],
   "source": [
    "def compute_tangential_velocity(panels, freestream, gamma, A_source, B_vortex):\n",
    "    \n",
    "    A = np.empty((panels.size, panels.size + 1), dtype=float)\n",
    "  \n",
    "    A[:, :-1] = B_vortex\n",
    "  \n",
    "    A[:, -1] = -np.sum(A_source, axis=1)\n",
    "\n",
    "    b = freestream.u_inf * np.sin([freestream.alpha - panel.beta \n",
    "                                      for panel in panels])\n",
    "    \n",
    "    strengths = np.append([panel.sigma for panel in panels], gamma)\n",
    "    \n",
    "    tangential_velocities = np.dot(A, strengths) + b\n",
    "    \n",
    "    for i, panel in enumerate(panels):\n",
    "        panel.vt = tangential_velocities[i]"
   ]
  },
  {
   "cell_type": "code",
   "execution_count": 33,
   "metadata": {
    "collapsed": true
   },
   "outputs": [],
   "source": [
    "# tangential velocity at each panel center.\n",
    "compute_tangential_velocity(panels, freestream, gamma, A_source, B_vortex)"
   ]
  },
  {
   "cell_type": "code",
   "execution_count": 34,
   "metadata": {
    "collapsed": true
   },
   "outputs": [],
   "source": [
    "def compute_pressure_coefficient(panels, freestream):\n",
    "    \n",
    "    for panel in panels:\n",
    "        panel.cp = 1.0 - (panel.vt / freestream.u_inf)**2"
   ]
  },
  {
   "cell_type": "code",
   "execution_count": 35,
   "metadata": {
    "collapsed": true
   },
   "outputs": [],
   "source": [
    "# surface pressure coefficient\n",
    "compute_pressure_coefficient(panels, freestream)"
   ]
  },
  {
   "cell_type": "code",
   "execution_count": 36,
   "metadata": {},
   "outputs": [
    {
     "data": {
      "image/png": "[encoded data removed]",
      "text/plain": [
       "<matplotlib.figure.Figure at 0x7f2174062438>"
      ]
     },
     "metadata": {},
     "output_type": "display_data"
    }
   ],
   "source": [
    "#plot sresult!\n",
    "\n",
    "py.figure(figsize=(10, 6))\n",
    "py.grid()\n",
    "py.xlabel('$x$', fontsize=16)\n",
    "py.ylabel('$C_p$', fontsize=16)\n",
    "py.plot([panel.xc for panel in panels if panel.loc == 'upper'],\n",
    "            [panel.cp for panel in panels if panel.loc == 'upper'], label='upper surface', color='r', linestyle='-', linewidth=2, marker='o', markersize=6)\n",
    "py.plot([panel.xc for panel in panels if panel.loc == 'lower'], [panel.cp for panel in panels if panel.loc == 'lower'], label= 'lower surface', color='b', linestyle='-', linewidth=1, marker='o', markersize=6)\n",
    "py.legend(loc='best', prop={'size':16})\n",
    "py.xlim(-0.1, 1.1)\n",
    "py.ylim(1.0, -2.0)\n",
    "py.title('Number of panels: {}'.format(panels.size), fontsize=16);"
   ]
  },
  {
   "cell_type": "code",
   "execution_count": 37,
   "metadata": {},
   "outputs": [
    {
     "name": "stdout",
     "output_type": "stream",
     "text": [
      "sum: 0.004606\n"
     ]
    }
   ],
   "source": [
    "#check accuracy\n",
    "#should == 0\n",
    "\n",
    "accuracy = sum([panel.sigma * panel.length for panel in panels])\n",
    "print('sum: {:0.6f}'.format(accuracy))"
   ]
  },
  {
   "cell_type": "markdown",
   "metadata": {},
   "source": [
    "## Lift"
   ]
  },
  {
   "cell_type": "code",
   "execution_count": 38,
   "metadata": {},
   "outputs": [
    {
     "name": "stdout",
     "output_type": "stream",
     "text": [
      "lift coefficient: CL = 0.506\n"
     ]
    }
   ],
   "source": [
    "# compute the chord and lift coefficient\n",
    "c = abs(max(panel.xa for panel in panels) -\n",
    "        min(panel.xa for panel in panels))\n",
    "cl = (gamma * sum(panel.length for panel in panels) /\n",
    "      (0.5 * freestream.u_inf * c))\n",
    "print('lift coefficient: CL = {:0.3f}'.format(cl))"
   ]
  },
  {
   "cell_type": "code",
   "execution_count": 39,
   "metadata": {},
   "outputs": [
    {
     "data": {
      "text/plain": [
       "array([<__main__.Panel object at 0x7f2173e975c0>,\n",
       "       <__main__.Panel object at 0x7f2173e97c18>,\n",
       "       <__main__.Panel object at 0x7f2174051b00>,\n",
       "       <__main__.Panel object at 0x7f2174051588>,\n",
       "       <__main__.Panel object at 0x7f2174051ba8>,\n",
       "       <__main__.Panel object at 0x7f2174051d68>,\n",
       "       <__main__.Panel object at 0x7f2174051a58>,\n",
       "       <__main__.Panel object at 0x7f21740512b0>,\n",
       "       <__main__.Panel object at 0x7f21740516a0>,\n",
       "       <__main__.Panel object at 0x7f2174051860>,\n",
       "       <__main__.Panel object at 0x7f2174051080>,\n",
       "       <__main__.Panel object at 0x7f2174051240>,\n",
       "       <__main__.Panel object at 0x7f2174051710>,\n",
       "       <__main__.Panel object at 0x7f2174051630>,\n",
       "       <__main__.Panel object at 0x7f21740519e8>,\n",
       "       <__main__.Panel object at 0x7f2174051b38>,\n",
       "       <__main__.Panel object at 0x7f2174051198>,\n",
       "       <__main__.Panel object at 0x7f2174051c88>,\n",
       "       <__main__.Panel object at 0x7f21740517b8>,\n",
       "       <__main__.Panel object at 0x7f2174015cc0>,\n",
       "       <__main__.Panel object at 0x7f2174138a20>,\n",
       "       <__main__.Panel object at 0x7f21741382b0>,\n",
       "       <__main__.Panel object at 0x7f21741383c8>,\n",
       "       <__main__.Panel object at 0x7f2174138da0>,\n",
       "       <__main__.Panel object at 0x7f2174138c18>,\n",
       "       <__main__.Panel object at 0x7f21741382e8>,\n",
       "       <__main__.Panel object at 0x7f2174138080>,\n",
       "       <__main__.Panel object at 0x7f2174138240>,\n",
       "       <__main__.Panel object at 0x7f2174138f60>,\n",
       "       <__main__.Panel object at 0x7f21741389e8>,\n",
       "       <__main__.Panel object at 0x7f2174138550>,\n",
       "       <__main__.Panel object at 0x7f2174138a90>,\n",
       "       <__main__.Panel object at 0x7f2174138278>,\n",
       "       <__main__.Panel object at 0x7f2174138518>,\n",
       "       <__main__.Panel object at 0x7f2174138cf8>,\n",
       "       <__main__.Panel object at 0x7f2173ee3b70>,\n",
       "       <__main__.Panel object at 0x7f2173ee3ac8>,\n",
       "       <__main__.Panel object at 0x7f2173ee3978>,\n",
       "       <__main__.Panel object at 0x7f2173ee39e8>,\n",
       "       <__main__.Panel object at 0x7f2173ee34a8>], dtype=object)"
      ]
     },
     "execution_count": 39,
     "metadata": {},
     "output_type": "execute_result"
    }
   ],
   "source": [
    "panels"
   ]
  },
  {
   "cell_type": "code",
   "execution_count": null,
   "metadata": {
    "collapsed": true
   },
   "outputs": [],
   "source": []
  }
 ],
 "metadata": {
  "kernelspec": {
   "display_name": "Python 3",
   "language": "python",
   "name": "python3"
  },
  "language_info": {
   "codemirror_mode": {
    "name": "ipython",
    "version": 3
   },
   "file_extension": ".py",
   "mimetype": "text/x-python",
   "name": "python",
   "nbconvert_exporter": "python",
   "pygments_lexer": "ipython3",
   "version": "3.6.2"
  }
 },
 "nbformat": 4,
 "nbformat_minor": 2
}
