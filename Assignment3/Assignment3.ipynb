{
 "cells": [
  {
   "cell_type": "markdown",
   "metadata": {},
   "source": [
    "## 2D Mult-element airfoil"
   ]
  },
  {
   "cell_type": "markdown",
   "metadata": {},
   "source": [
    "## Part 1"
   ]
  },
  {
   "cell_type": "code",
   "execution_count": 122,
   "metadata": {
    "collapsed": true
   },
   "outputs": [],
   "source": [
    "import os\n",
    "import numpy as np\n",
    "from scipy import integrate, linalg\n",
    "from matplotlib import pyplot as py\n",
    "%matplotlib inline"
   ]
  },
  {
   "cell_type": "code",
   "execution_count": 123,
   "metadata": {
    "collapsed": true
   },
   "outputs": [],
   "source": [
    "#Load Flaps - Files easily changed for size\n",
    "main_foil = os.path.join('MainFoil_N=200.csv')\n",
    "with open (main_foil, 'r') as file_name:\n",
    "    x_main, y_main = np.loadtxt(file_name, dtype=float, delimiter=',', unpack=True)\n",
    "    \n",
    "\n",
    "flap_foil = os.path.join('FlapFoil_N=200.csv')\n",
    "with open (flap_foil, 'r') as file_name:\n",
    "    x_flap, y_flap = np.loadtxt(file_name, dtype=float, delimiter=',', unpack=True)\n",
    "    \n",
    "N = x_flap.size -1"
   ]
  },
  {
   "cell_type": "code",
   "execution_count": 124,
   "metadata": {
    "collapsed": true
   },
   "outputs": [],
   "source": [
    "class Panel:\n",
    "    \n",
    "    def __init__(self, xa, ya, xb, yb):\n",
    "       \n",
    "        self.xa, self.ya = xa, ya  # panel starting-point\n",
    "        self.xb, self.yb = xb, yb  # panel ending-point\n",
    "        \n",
    "        self.xc, self.yc = (xa + xb) / 2, (ya + yb) / 2  # panel center\n",
    "        self.length = np.sqrt((xb - xa)**2 + (yb - ya)**2)  # panel length\n",
    "        \n",
    "        # orientation of panel (angle between x-axis and panel's normal)\n",
    "        if xb - xa <= 0.0:\n",
    "            self.beta = np.arccos((yb - ya) / self.length)\n",
    "        elif xb - xa > 0.0:\n",
    "            self.beta = np.pi + np.arccos(-(yb - ya) / self.length)\n",
    "        \n",
    "        # panel location\n",
    "        if self.beta <= np.pi:\n",
    "            self.loc = 'upper'  # upper surface\n",
    "        else:\n",
    "            self.loc = 'lower'  # lower surface\n",
    "        \n",
    "        self.sigma = 0.0  # source strength\n",
    "        self.vt = 0.0  # tangential velocity\n",
    "        self.cp = 0.0  # pressure coefficient"
   ]
  },
  {
   "cell_type": "code",
   "execution_count": 125,
   "metadata": {
    "collapsed": true
   },
   "outputs": [],
   "source": [
    "def define_panels(x, y, N):\n",
    "    \n",
    "    # create panels\n",
    "    panels = np.empty(N, dtype=object)\n",
    "    for i in range(N):\n",
    "        panels[i] = Panel(x[i], y[i], x[i + 1], y[i + 1])\n",
    "    \n",
    "    return panels"
   ]
  },
  {
   "cell_type": "code",
   "execution_count": 126,
   "metadata": {
    "collapsed": true
   },
   "outputs": [],
   "source": [
    "class Freestream:\n",
    "    \n",
    "    def __init__(self, u_inf=1.0, alpha=0.0):\n",
    "        \n",
    "        self.u_inf = u_inf\n",
    "        self.alpha = np.radians(alpha)"
   ]
  },
  {
   "cell_type": "code",
   "execution_count": 127,
   "metadata": {
    "collapsed": true
   },
   "outputs": [],
   "source": [
    "#Build freestream condition\n",
    "freestream = Freestream(u_inf=1.0, alpha=0.0)"
   ]
  },
  {
   "cell_type": "code",
   "execution_count": 128,
   "metadata": {
    "collapsed": true
   },
   "outputs": [],
   "source": [
    "main_panels = define_panels(x_main, y_main, N)\n",
    "flap_panels = define_panels(x_flap, y_flap, N)\n",
    "\n",
    "#combining both panels\n",
    "panels = np.append(main_panels, flap_panels)"
   ]
  },
  {
   "cell_type": "code",
   "execution_count": 129,
   "metadata": {
    "collapsed": true
   },
   "outputs": [],
   "source": [
    "def integral(x, y, panel, dxdk, dydk):\n",
    "    \n",
    "    def integrand(s):\n",
    "        return (((x - (panel.xa - np.sin(panel.beta) * s)) * dxdk +\n",
    "                 (y - (panel.ya + np.cos(panel.beta) * s)) * dydk) /\n",
    "                ((x - (panel.xa - np.sin(panel.beta) * s))**2 +\n",
    "                 (y - (panel.ya + np.cos(panel.beta) * s))**2) )\n",
    "    return integrate.quad(integrand, 0.0, panel.length)[0]"
   ]
  },
  {
   "cell_type": "code",
   "execution_count": 130,
   "metadata": {
    "collapsed": true
   },
   "outputs": [],
   "source": [
    "#source contribution\n",
    "def source_contribution_normal(panels):\n",
    "    \n",
    "    A = np.empty((panels.size, panels.size), dtype=float)\n",
    "    \n",
    "    # source contribution on a panel from itself\n",
    "    np.fill_diagonal(A, 0.5)\n",
    "    \n",
    "    # source contribution on a panel from others\n",
    "    for i, panel_i in enumerate(panels):\n",
    "        for j, panel_j in enumerate(panels):\n",
    "            if i != j:\n",
    "                A[i, j] = 0.5 / np.pi * integral(panel_i.xc, panel_i.yc, \n",
    "                                                    panel_j,\n",
    "                                                    np.cos(panel_i.beta),\n",
    "                                                    np.sin(panel_i.beta))\n",
    "    return A"
   ]
  },
  {
   "cell_type": "code",
   "execution_count": 131,
   "metadata": {
    "collapsed": true
   },
   "outputs": [],
   "source": [
    "def vortex_contribution_normal(panels):\n",
    "    \n",
    "    A = np.empty((panels.size, panels.size), dtype=float)\n",
    "    # vortex contribution on a panel from itself\n",
    "    np.fill_diagonal(A, 0.0)\n",
    "    # vortex contribution on a panel from others\n",
    "    for i, panel_i in enumerate(panels):\n",
    "        for j, panel_j in enumerate(panels):\n",
    "            if i != j:\n",
    "                A[i, j] = -0.5 / np.pi * integral(panel_i.xc, panel_i.yc, \n",
    "                                                     panel_j,\n",
    "                                                     np.sin(panel_i.beta),\n",
    "                                                     -np.cos(panel_i.beta))\n",
    "    return A"
   ]
  },
  {
   "cell_type": "code",
   "execution_count": 132,
   "metadata": {
    "collapsed": true
   },
   "outputs": [],
   "source": [
    "#Create source and vortex contributions\n",
    "A_source = source_contribution_normal(panels)\n",
    "B_vortex = vortex_contribution_normal(panels)"
   ]
  },
  {
   "cell_type": "code",
   "execution_count": 133,
   "metadata": {
    "collapsed": true
   },
   "outputs": [],
   "source": [
    "def kutta_condition(A_source, B_vortex):\n",
    "\n",
    "    b = np.empty((2,A_source.shape[0]+2), dtype=float)\n",
    "    A = np.empty((A_source.shape[0], A_source.shape[0]+2), dtype=float)\n",
    "    \n",
    "    A[:, :-2] = B_vortex\n",
    "    A[:, -2] = -np.sum(A_source[:,:N], axis=1)\n",
    "    A[:, -1] = -np.sum(A_source[:,N:], axis=1)\n",
    "   \n",
    "    b[0,:] = A[0, :] + A[N-1, :]\n",
    "    b[1,:] = A[N, :] + A[-1, :]\n",
    "\n",
    "    return b"
   ]
  },
  {
   "cell_type": "code",
   "execution_count": 134,
   "metadata": {
    "collapsed": true
   },
   "outputs": [],
   "source": [
    "def build_singularity_matrix(A_source, B_vortex):\n",
    "\n",
    "    A = np.empty((A_source.shape[0]+2, A_source.shape[1]+2), dtype=float)\n",
    "    A[:-2, :-2] = A_source\n",
    "    A[:-2, -2] = np.sum(B_vortex[:,:N], axis=1)\n",
    "    A[:-2, -1] = np.sum(B_vortex[:,N:], axis=1)\n",
    "    A[-2:, :] = kutta_condition(A_source, B_vortex)\n",
    "\n",
    "\n",
    "    return A"
   ]
  },
  {
   "cell_type": "code",
   "execution_count": 135,
   "metadata": {
    "collapsed": true
   },
   "outputs": [],
   "source": [
    "def build_freestream_rhs(panels, freestream):\n",
    "   \n",
    "    b = np.empty(panels.size+2,dtype=float)\n",
    "\n",
    "    for i, panel in enumerate(panels):\n",
    "        b[i] = -freestream.u_inf * np.cos(freestream.alpha - panel.beta)\n",
    "    \n",
    "    b[-2] = -freestream.u_inf*( np.sin(freestream.alpha-panels[0].beta)\n",
    "                              +np.sin(freestream.alpha-panels[N-1].beta) )\n",
    "    b[-1] = -freestream.u_inf*( np.sin(freestream.alpha-panels[N].beta)\n",
    "                              +np.sin(freestream.alpha-panels[-1].beta) )\n",
    "    return b"
   ]
  },
  {
   "cell_type": "code",
   "execution_count": 136,
   "metadata": {
    "collapsed": true
   },
   "outputs": [],
   "source": [
    "A = build_singularity_matrix(A_source, B_vortex)\n",
    "b = build_freestream_rhs(panels, freestream)"
   ]
  },
  {
   "cell_type": "code",
   "execution_count": 137,
   "metadata": {
    "collapsed": true
   },
   "outputs": [],
   "source": [
    "sigmas = np.linalg.solve(A, b)\n",
    "\n",
    "#store source strength\n",
    "for i, panel in enumerate(panels):\n",
    "    panel.sigma = sigmas[i]\n",
    "    \n",
    "gamma = sigmas[-2:]\n"
   ]
  },
  {
   "cell_type": "code",
   "execution_count": 138,
   "metadata": {},
   "outputs": [
    {
     "name": "stdout",
     "output_type": "stream",
     "text": [
      "sum of strengths for main: -0.000827\n"
     ]
    }
   ],
   "source": [
    "# calculate the accuracy\n",
    "accuracy1 = sum([panel.sigma * panel.length for panel in panels])\n",
    "print('sum of strengths for main: {:0.6f}'.format(accuracy1))"
   ]
  },
  {
   "cell_type": "code",
   "execution_count": 139,
   "metadata": {
    "collapsed": true
   },
   "outputs": [],
   "source": [
    "def compute_tangential_velocity(panels, freestream, gamma, A_source, B_vortex):\n",
    "    \n",
    "    A = np.empty((panels.size, panels.size + 2), dtype=float)\n",
    "    A[:, :-2] = B_vortex\n",
    "    A[:, -2] = -np.sum(A_source[:,:N], axis=1)\n",
    "    A[:, -1] = -np.sum(A_source[:,N:], axis=1)\n",
    "    b = freestream.u_inf * np.sin([freestream.alpha - panel.beta \n",
    "                                      for panel in panels])\n",
    "    strengths = np.append([panel.sigma for panel in panels], gamma)\n",
    "    tangential_velocities = np.dot(A, strengths) + b\n",
    "    \n",
    "    for i, panel in enumerate(panels):\n",
    "        panel.vt = tangential_velocities[i]"
   ]
  },
  {
   "cell_type": "code",
   "execution_count": 140,
   "metadata": {
    "collapsed": true
   },
   "outputs": [],
   "source": [
    "# tangential velocity at each panel center.\n",
    "compute_tangential_velocity(panels, freestream, gamma, A_source, B_vortex)"
   ]
  },
  {
   "cell_type": "code",
   "execution_count": 141,
   "metadata": {
    "collapsed": true
   },
   "outputs": [],
   "source": [
    "def compute_pressure_coefficient(panels, freestream):\n",
    "    \n",
    "    for panel in panels:\n",
    "        panel.cp = 1.0 - (panel.vt / freestream.u_inf)**2"
   ]
  },
  {
   "cell_type": "code",
   "execution_count": 142,
   "metadata": {
    "collapsed": true
   },
   "outputs": [],
   "source": [
    "# surface pressure coefficient\n",
    "\n",
    "compute_pressure_coefficient(panels, freestream)"
   ]
  },
  {
   "cell_type": "code",
   "execution_count": 143,
   "metadata": {
    "collapsed": true
   },
   "outputs": [],
   "source": [
    "main_cp = os.path.join('Cp_Main_theoretical.csv')\n",
    "with open (main_cp, 'r') as file_name:\n",
    "    x_main_cp, y_main_cp = np.loadtxt(file_name, dtype=float, delimiter=',', unpack=True)\n",
    "    \n",
    "\n",
    "flap_cp = os.path.join('Cp_Flap_theoretical.csv')\n",
    "with open (flap_cp, 'r') as file_name:\n",
    "    x_flap_cp, y_flap_cp = np.loadtxt(file_name, dtype=float, delimiter=',', unpack=True)"
   ]
  },
  {
   "cell_type": "code",
   "execution_count": 144,
   "metadata": {},
   "outputs": [
    {
     "data": {
      "image/png": "[encoded data removed]",
      "text/plain": [
       "<matplotlib.figure.Figure at 0x7fc2076c34e0>"
      ]
     },
     "metadata": {},
     "output_type": "display_data"
    }
   ],
   "source": [
    "py.figure(figsize=(10, 6))\n",
    "py.grid()\n",
    "py.xlabel('$x$', fontsize=16)\n",
    "py.ylabel('$C_p$', fontsize=16)\n",
    "\n",
    "py.plot([panel.xc for panel in panels if panel.loc == 'upper'],\n",
    "            [panel.cp for panel in panels if panel.loc == 'upper'], label='upper surface', color='r', linestyle='-', linewidth=2, marker='o', markersize=6)\n",
    "py.plot([panel.xc for panel in panels if panel.loc == 'lower'], [panel.cp for panel in panels if panel.loc == 'lower'], label= 'lower surface', color='b', linestyle='-', linewidth=1, marker='o', markersize=6)\n",
    "\n",
    "py.plot(x_main_cp, y_main_cp, color='g', linestyle='-', linewidth=2)\n",
    "py.plot(x_flap_cp, y_flap_cp, color='g', linestyle='-', linewidth=2)\n",
    "\n",
    "\n",
    "\n",
    "py.legend(loc='best', prop={'size':16})\n",
    "py.xlim(-0.1, 1.6)\n",
    "py.ylim(1.0, -15.0)\n",
    "py.title('Number of panels: {}'.format(main_panels.size), fontsize=16);"
   ]
  },
  {
   "cell_type": "code",
   "execution_count": 145,
   "metadata": {},
   "outputs": [
    {
     "name": "stdout",
     "output_type": "stream",
     "text": [
      "cp on 3rd panel:  -0.553530359708\n"
     ]
    }
   ],
   "source": [
    "#pressure coefficient on the 3rd panel\n",
    "print('cp on 3rd panel: ', panels[2].cp)"
   ]
  },
  {
   "cell_type": "code",
   "execution_count": 146,
   "metadata": {},
   "outputs": [
    {
     "name": "stdout",
     "output_type": "stream",
     "text": [
      "cp on 10th flap panel:  0.262580530047\n"
     ]
    }
   ],
   "source": [
    "#cp on the 10th panel\n",
    "print('cp on 10th flap panel: ', panels[main_panels.size+9].cp)"
   ]
  },
  {
   "cell_type": "code",
   "execution_count": 147,
   "metadata": {},
   "outputs": [
    {
     "name": "stdout",
     "output_type": "stream",
     "text": [
      "Lift=  3.71843390868\n",
      "Error=  0.0201660913188\n"
     ]
    }
   ],
   "source": [
    "#what is the lift?\n",
    "lift = 0\n",
    "error = 0\n",
    "for panel in panels:\n",
    "    lift -= panel.cp*np.sin(panel.beta)*panel.length\n",
    "    \n",
    "print('Lift= ', lift)\n",
    "print('Error= ', (3.7386-lift))"
   ]
  },
  {
   "cell_type": "code",
   "execution_count": 148,
   "metadata": {},
   "outputs": [
    {
     "name": "stdout",
     "output_type": "stream",
     "text": [
      "Drag=  -0.0055835520559\n"
     ]
    }
   ],
   "source": [
    "#what is the drag?\n",
    "drag = 0\n",
    "for panel in panels:\n",
    "    drag -= panel.cp*np.cos(panel.beta)*panel.length\n",
    "    \n",
    "print('Drag= ', drag)"
   ]
  },
  {
   "cell_type": "code",
   "execution_count": 150,
   "metadata": {},
   "outputs": [
    {
     "name": "stdout",
     "output_type": "stream",
     "text": [
      "Improvement=  49.3233050978508\n"
     ]
    }
   ],
   "source": [
    "#w/ 200 pts, whats the improvement in error\n",
    "#error w/ 100 pts = 0.0408855231392\n",
    "#error w/ 200 pts = 0.0201660913188\n",
    "print('Improvement= ', .0201660913188/0.0408855231392*100)"
   ]
  },
  {
   "cell_type": "markdown",
   "metadata": {
    "collapsed": true
   },
   "source": [
    "## Part 2"
   ]
  },
  {
   "cell_type": "code",
   "execution_count": 33,
   "metadata": {
    "collapsed": true
   },
   "outputs": [],
   "source": [
    "#Load files\n",
    "mainfoil = os.path.join('NACA23012_MainFoil.csv')\n",
    "with open (mainfoil, 'r') as file_name:\n",
    "    xmain, ymain = np.loadtxt(file_name, dtype=float, delimiter=',', unpack=True)\n",
    "\n",
    "flapfoil = os.path.join('NACA23012_FlapFoil.csv')\n",
    "with open (flapfoil, 'r') as file_name:\n",
    "    xflap, yflap = np.loadtxt(file_name, dtype=float, delimiter=',', unpack=True)"
   ]
  },
  {
   "cell_type": "code",
   "execution_count": 34,
   "metadata": {
    "collapsed": true
   },
   "outputs": [],
   "source": [
    "#need to rotate flap\n",
    "def rotate(xi, yi, x, y, deg):\n",
    "    \n",
    "    angle = np.radians(deg)\n",
    "\n",
    "    xn = xi + np.cos(angle) * (x - xi) - np.sin(angle) * (y - yi)\n",
    "    yn = yi + np.sin(angle) * (x - xi) + np.cos(angle) * (y - yi)\n",
    "    \n",
    "    return xn, yn"
   ]
  },
  {
   "cell_type": "code",
   "execution_count": 82,
   "metadata": {
    "collapsed": true
   },
   "outputs": [],
   "source": [
    "#create panels from with main foil and rotated flap\n",
    "xnew1, ynew1 = rotate(1.03, -0.054, xflap, yflap, -20)\n",
    "flappanels = define_panels(xnew1, ynew1, 150)\n",
    "mainpanels = define_panels(xmain, ymain, 150)\n",
    "part1 = np.append(mainpanels, flappanels)\n",
    "Asource = source_contribution_normal(part1)\n",
    "Bvortex = vortex_contribution_normal(part1)"
   ]
  },
  {
   "cell_type": "code",
   "execution_count": 119,
   "metadata": {},
   "outputs": [
    {
     "data": {
      "image/png": "[encoded data removed]",
      "text/plain": [
       "<matplotlib.figure.Figure at 0x7fc2077ba860>"
      ]
     },
     "metadata": {},
     "output_type": "display_data"
    }
   ],
   "source": [
    "#plot to check function\n",
    "py.figure(figsize=(8,4))\n",
    "py.grid()\n",
    "py.xlabel('x', fontsize=16)\n",
    "py.ylabel('y', fontsize=16)\n",
    "py.plot(xmain, ymain, color='r', linestyle='-', linewidth=2)\n",
    "py.plot(xnew, ynew, color='b', linestyle='-', linewidth=2)\n",
    "\n",
    "py.axis('scaled', adjustable='box')\n",
    "py.xlim(-0.1, 1.5)\n",
    "py.ylim(-0.6, 0.6);"
   ]
  },
  {
   "cell_type": "code",
   "execution_count": 78,
   "metadata": {
    "collapsed": true
   },
   "outputs": [],
   "source": [
    "#lift caluclator\n",
    "def lift_calc(panels, Asource, Bvortex, AoA, stream):\n",
    "    \n",
    "    \n",
    "    freestream = Freestream(stream, AoA)\n",
    "    \n",
    "    A = build_singularity_matrix(Asource, Bvortex)\n",
    "    b = build_freestream_rhs(panels, freestream)\n",
    "    \n",
    "    sigmas = np.linalg.solve(A, b)\n",
    "    \n",
    "    #store source strength\n",
    "    for i, panel in enumerate(pannels):\n",
    "        panel.sigma = sigmas[i]\n",
    "    gamma = sigmas[-2:]\n",
    "    \n",
    "    compute_tangential_velocity(pannels, freestream, gamma, \n",
    "                                Asource, Bvortex)\n",
    "    compute_pressure_coefficient(pannels, freestream)\n",
    "    l = 0.0\n",
    "    for panel in pannels:\n",
    "        l -= panel.cp*np.sin(panel.beta)*panel.length\n",
    "        \n",
    "    return l"
   ]
  },
  {
   "cell_type": "code",
   "execution_count": 79,
   "metadata": {
    "collapsed": true
   },
   "outputs": [],
   "source": [
    "def bisection1(panels, Asource, Bvortex, stream, range1, range2, tol):\n",
    "\n",
    "    lift1 = lift_calc(panels, Asource, Bvortex, range1, stream)\n",
    "    \n",
    "    n = 1\n",
    "    while n < 20:\n",
    "        alpha = (range1+range2)/2\n",
    "        lift = lift_calc(panels, Asource, Bvortex, alpha, stream)\n",
    "        print('Guess', n,':', -alpha, 'Lift:', lift)\n",
    "        \n",
    "        if abs(range2-range1)/2 < tol: \n",
    "            break\n",
    "        \n",
    "        \n",
    "        if np.sign(lift) == np.sign(lift1):\n",
    "            range1 = alpha\n",
    "            lift1=lift\n",
    "        else:\n",
    "            range2 = alpha\n",
    "    \n",
    "        n = n+1\n",
    "    return alpha"
   ]
  },
  {
   "cell_type": "code",
   "execution_count": 81,
   "metadata": {},
   "outputs": [
    {
     "name": "stdout",
     "output_type": "stream",
     "text": [
      "1 Guess: 0.0 Lift: 1.52018626053\n",
      "2 Guess: -7.0 Lift: 0.548338462552\n",
      "3 Guess: -10.5 Lift: 0.0634989062041\n",
      "4 Guess: -12.25 Lift: -0.175476948754\n",
      "5 Guess: -11.375 Lift: -0.0563695467263\n",
      "6 Guess: -10.9375 Lift: 0.00347652142469\n",
      "7 Guess: -11.15625 Lift: -0.0264694255558\n",
      "8 Guess: -11.046875 Lift: -0.0115020712276\n",
      "9 Guess: -10.9921875 Lift: -0.00401416604986\n",
      "10 Guess: -10.96484375 Lift: -0.000269168393877\n",
      "11 Guess: -10.951171875 Lift: 0.00160359020835\n",
      "12 Guess: -10.9580078125 Lift: 0.000667189303812\n"
     ]
    }
   ],
   "source": [
    "#What angle of attack will cause 0 lift w/ a flap angle of 20deg?\n",
    "AoA = bisection1(part1, Asource, Bvortex, 1.0, 14, -14, 0.01)"
   ]
  },
  {
   "cell_type": "code",
   "execution_count": 103,
   "metadata": {
    "collapsed": true
   },
   "outputs": [],
   "source": [
    "def lift_calc2(xmain, ymain, xflap, yflap, stream, AoA, theta):\n",
    "    \n",
    "    main = define_panels(xmain, ymain, 150)\n",
    "    xrot, yrot = rotate(1.03, -0.054, xflap, yflap, theta)\n",
    "    rot = define_panels(xrot, yrot, 150)\n",
    "    part2 = np.append(main, rot)\n",
    "    Asource = source_contribution_normal(part2)\n",
    "    Bvortex = vortex_contribution_normal(part2)\n",
    "    \n",
    "    freestream = Freestream(stream, AoA)\n",
    "    \n",
    "    A = build_singularity_matrix(Asource, Bvortex)\n",
    "    b = build_freestream_rhs(part2, freestream)\n",
    "    \n",
    "    sigmas = np.linalg.solve(A, b)\n",
    "    \n",
    "    #store source strength\n",
    "    for i, panel in enumerate(part2):\n",
    "        panel.sigma = sigmas[i]\n",
    "    gamma = sigmas[-2:]\n",
    "    \n",
    "    compute_tangential_velocity(part2, freestream, gamma, Asource, Bvortex)\n",
    "    compute_pressure_coefficient(part2, freestream)\n",
    "    l = 0.0\n",
    "    for panel in part2:\n",
    "        l -= panel.cp*np.sin(panel.beta)*panel.length\n",
    "        \n",
    "        \n",
    "    drag = 0\n",
    "    for panel in part2:\n",
    "        drag -= panel.cp*np.cos(panel.beta)*panel.length\n",
    "        \n",
    "    return l, drag"
   ]
  },
  {
   "cell_type": "code",
   "execution_count": 104,
   "metadata": {
    "collapsed": true
   },
   "outputs": [],
   "source": [
    "def bisection2(xmain, ymain, xflap, yflap, stream, range1, range2, tol):\n",
    "\n",
    "    \n",
    "    lift1, drag = lift_calc2(xmain, ymain, xflap, yflap, 1.0, 0.0, range1)\n",
    "    \n",
    "    n = 1\n",
    "    while n < 20:\n",
    "        alpha = (range1+range2)/2\n",
    "        lift, drag = lift_calc2(xmain, ymain, xflap, yflap, \n",
    "                                1.0, 0.0, alpha)\n",
    "        print('Guess', n,':', -alpha, 'Lift:', lift)\n",
    "        \n",
    "        if abs(range2-range1)/2 < tol: \n",
    "            break\n",
    "        \n",
    "        \n",
    "        if np.sign(lift) == np.sign(lift1):\n",
    "            range1 = alpha\n",
    "            lift1=lift\n",
    "        else:\n",
    "            range2 = alpha\n",
    "    \n",
    "        n = n+1\n",
    "    return alpha"
   ]
  },
  {
   "cell_type": "code",
   "execution_count": 98,
   "metadata": {},
   "outputs": [
    {
     "name": "stdout",
     "output_type": "stream",
     "text": [
      "1 Guess: 0.0 Lift: 0.271910644469\n",
      "2 Guess: 5.0 Lift: -0.0292849385314\n",
      "3 Guess: 2.5 Lift: 0.120733957722\n",
      "4 Guess: 3.75 Lift: 0.0455783940188\n",
      "5 Guess: 4.375 Lift: 0.00811001236125\n",
      "6 Guess: 4.6875 Lift: -0.010596666081\n",
      "7 Guess: 4.53125 Lift: -0.00124562455172\n",
      "8 Guess: 4.453125 Lift: 0.0034316198606\n",
      "9 Guess: 4.4921875 Lift: 0.00109285409623\n",
      "10 Guess: 4.51171875 Lift: -7.64211232741e-05\n",
      "11 Guess: 4.501953125 Lift: 0.000508207513369\n"
     ]
    }
   ],
   "source": [
    "flaplift, drag = bisection2(xmain, ymain, xflap, yflap, \n",
    "                            1.0, -10.0, 10.0, 0.01)"
   ]
  },
  {
   "cell_type": "code",
   "execution_count": 105,
   "metadata": {},
   "outputs": [],
   "source": [
    "#Q3\n",
    "#Lift at 0 , 5, 10, 15 deg of flap tilt\n",
    "lift0, drag0 = lift_calc2(xmain, ymain, xflap, yflap, 1.0, 4.0, 0)\n",
    "lift5, drag5 = lift_calc2(xmain, ymain, xflap, yflap, 1.0, 4.0, -5)\n",
    "lift10, drag10 = lift_calc2(xmain, ymain, xflap, yflap, 1.0, 4.0, -10)\n",
    "lift15, drag15 = lift_calc2(xmain, ymain, xflap, yflap, 1.0, 4.0, -15)"
   ]
  },
  {
   "cell_type": "code",
   "execution_count": 114,
   "metadata": {},
   "outputs": [
    {
     "name": "stdout",
     "output_type": "stream",
     "text": [
      "From 0deg to 5deg: 14.638214654 \n",
      "From 0deg to 10deg: 24.3906650305 \n",
      "From 0deg to 15deg: 31.4816713037\n"
     ]
    }
   ],
   "source": [
    "perc5 = (1 - 1/np.sqrt(drag5/drag0))*100\n",
    "perc10 = (1 - 1/np.sqrt(drag10/drag0))*100\n",
    "perc15 = (1 - 1/np.sqrt(drag15/drag0))*100\n",
    "print('From 0deg to 5deg:', perc5, \n",
    "      '\\nFrom 0deg to 10deg:', perc10, \n",
    "      '\\nFrom 0deg to 15deg:', perc15)"
   ]
  }
 ],
 "metadata": {
  "kernelspec": {
   "display_name": "Python 3",
   "language": "python",
   "name": "python3"
  },
  "language_info": {
   "codemirror_mode": {
    "name": "ipython",
    "version": 3
   },
   "file_extension": ".py",
   "mimetype": "text/x-python",
   "name": "python",
   "nbconvert_exporter": "python",
   "pygments_lexer": "ipython3",
   "version": "3.6.2"
  }
 },
 "nbformat": 4,
 "nbformat_minor": 2
}
