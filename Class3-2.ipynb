{
 "cells": [
  {
   "cell_type": "code",
   "execution_count": 3,
   "metadata": {},
   "outputs": [],
   "source": [
    "import numpy\n",
    "import math\n",
    "from matplotlib import pyplot\n",
    "#display figures\n",
    "%matplotlib inline"
   ]
  },
  {
   "cell_type": "code",
   "execution_count": 4,
   "metadata": {
    "collapsed": true
   },
   "outputs": [],
   "source": [
    "N = 200;\n",
    "x_start, x_end = -4.0, 4.0 #set boundaries\n",
    "y_start, y_end = -2.0, 2.0\n",
    "x = numpy.linspace(x_start, x_end, N) #creates array 'x'\n",
    "y = numpy.linspace(y_start, y_end, N) #creates array 'y'\n",
    "X, Y = numpy.meshgrid(x,y)"
   ]
  },
  {
   "cell_type": "code",
   "execution_count": null,
   "metadata": {
    "collapsed": true
   },
   "outputs": [],
   "source": [
    "u_ing = 1.0 #freestream speed\n",
    "\n",
    "#compte freestream velocity field\n",
    "u_free = u_inf * numpy.ones((N, N), dtype = float)\n",
    "v_free = numpy.zeros((N, N), dtype = float)\n",
    "\n"
   ]
  }
 ],
 "metadata": {
  "kernelspec": {
   "display_name": "Python 3",
   "language": "python",
   "name": "python3"
  },
  "language_info": {
   "codemirror_mode": {
    "name": "ipython",
    "version": 3
   },
   "file_extension": ".py",
   "mimetype": "text/x-python",
   "name": "python",
   "nbconvert_exporter": "python",
   "pygments_lexer": "ipython3",
   "version": "3.6.2"
  }
 },
 "nbformat": 4,
 "nbformat_minor": 2
}
